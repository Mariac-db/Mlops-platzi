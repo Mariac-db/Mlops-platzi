{
 "cells": [
  {
   "cell_type": "code",
   "execution_count": 1,
   "metadata": {},
   "outputs": [
    {
     "name": "stderr",
     "output_type": "stream",
     "text": [
      "/Users/mdurango/Proyect/Mlops-platzi/.venv/lib/python3.9/site-packages/pydantic/_internal/_fields.py:149: UserWarning: Field \"model_server_url\" has conflict with protected namespace \"model_\".\n",
      "\n",
      "You may be able to resolve this warning by setting `model_config['protected_namespaces'] = ()`.\n",
      "  warnings.warn(\n",
      "/Users/mdurango/Proyect/Mlops-platzi/.venv/lib/python3.9/site-packages/pydantic/_internal/_config.py:318: UserWarning: Valid config keys have changed in V2:\n",
      "* 'schema_extra' has been renamed to 'json_schema_extra'\n",
      "  warnings.warn(message, UserWarning)\n"
     ]
    }
   ],
   "source": [
    "import os\n",
    "import pickle\n",
    "import warnings\n",
    "from datetime import datetime\n",
    "\n",
    "import matplotlib.pyplot as plt\n",
    "import mlflow\n",
    "import numpy as np\n",
    "import pandas as pd\n",
    "import seaborn as sns\n",
    "import xgboost\n",
    "from sklearn.feature_extraction import DictVectorizer\n",
    "from sklearn.linear_model import Lasso, LinearRegression, Ridge\n",
    "from sklearn.metrics import recall_score\n",
    "\n",
    "\n",
    "MLFLOW_TRACKING_URI = \"sqlite:///mlflow.db\"\n",
    "warnings.filterwarnings(\"ignore\")"
   ]
  },
  {
   "attachments": {},
   "cell_type": "markdown",
   "metadata": {},
   "source": [
    "Ahora lo que vamos a hacer es ir a la UI y simulemos que algún cientifico de datos o miembro del equipo decide registrar ciertos podemos en \"staging\", y más adelante nosotros como ingenieros de ML tomamos la decisión de cual modelo registrar para producción bajo las métricas de performance obtenidas y las pruebas. Es muy importante, hacer las pruebas de validación antes de considerar un modelo en producción. Entre ellas se encuentran:\n",
    "\n",
    "#### 1. Pruebas de Funcionalidad:\n",
    "\n",
    "* Funcionalidad del Modelo: Asegurarse de que el modelo funcione correctamente en el entorno de producción con los datos reales (Se puede simular con cierta parte de la data o toda idealmente).\n",
    "* Integración del Modelo: Verificar que el modelo integrado en la infraestructura de producción responda y se comunique adecuadamente con otros componentes del sistema (partes del Pipeline).\n",
    "\n",
    "####  2. Pruebas de Rendimiento:\n",
    "* Rendimiento del Modelo: Evaluar el rendimiento del modelo en términos de velocidad de inferencia, uso de recursos (CPU, memoria), y latencia para garantizar que cumple con los requisitos de producción. (El tiempo es un factor muy importante en la generación de soluciones de negocio)\n",
    "* Escala y Carga: Probar el modelo bajo cargas esperadas para asegurar que el sistema es escalable y puede manejar la demanda prevista. (Orar para que el Kernel no muera con la carga, de lo contrario mirar formas de optimizar el código, hacer carga de datos por chuncks, paralelizar procesos, etc)\n",
    "\n",
    "#### 3. Pruebas de Robustez:\n",
    "* Robustez de estrés: Evaluar el comportamiento del modelo en condiciones adversas, como datos de entrada no esperados, valores faltantes, valores atípicos, etc. (Esto es muy importante, ya que en la vida real los datos no son perfectos, y es muy probable que el modelo se caiga si no se tiene en cuenta este factor por lo que generar pruebas unitarias para este tipo de casos es muy importante). \n"
   ]
  },
  {
   "attachments": {},
   "cell_type": "markdown",
   "metadata": {},
   "source": [
    "### Making predictions from mlflow artifacts\n",
    "\n",
    "Predict on Pandas DataFrame: Para ello debemos tener la misma representación de datos que hemos usado para entrenar el modelo, es decir, las mismas columnas y el mismo orden. Por lo que vamos a usar un par de funciones que hemos venido implementando. "
   ]
  },
  {
   "cell_type": "code",
   "execution_count": 2,
   "metadata": {},
   "outputs": [],
   "source": [
    "def load_pickle(filename):\n",
    "    \"\"\" \n",
    "    This function loads a pickle file from the data_processed folder\n",
    "    and returns the data\n",
    "    Args:\n",
    "        filename (str): name of the file to load\n",
    "    Returns:\n",
    "        data (pd.DataFrame): data loaded from the pickle file\n",
    "    \"\"\"\n",
    "    filepath = os.path.join(\"data\", \"data_processed\", f\"{filename}.pkl\")\n",
    "    with open(filepath, 'rb') as file:\n",
    "        data = pickle.load(file)\n",
    "    return data"
   ]
  },
  {
   "cell_type": "code",
   "execution_count": 3,
   "metadata": {},
   "outputs": [],
   "source": [
    "X_train, y_train = load_pickle(\"train\")\n",
    "X_test, y_test = load_pickle(\"test\")"
   ]
  },
  {
   "cell_type": "code",
   "execution_count": 4,
   "metadata": {},
   "outputs": [
    {
     "data": {
      "text/plain": [
       "(13269,)"
      ]
     },
     "execution_count": 4,
     "metadata": {},
     "output_type": "execute_result"
    }
   ],
   "source": [
    "y_train.shape"
   ]
  },
  {
   "cell_type": "code",
   "execution_count": 5,
   "metadata": {},
   "outputs": [
    {
     "data": {
      "text/plain": [
       "(13269, 13692)"
      ]
     },
     "execution_count": 5,
     "metadata": {},
     "output_type": "execute_result"
    }
   ],
   "source": [
    "X_train.toarray().shape"
   ]
  },
  {
   "cell_type": "code",
   "execution_count": 6,
   "metadata": {},
   "outputs": [],
   "source": [
    "assert X_train.toarray().shape[0] == y_train.shape[0]"
   ]
  },
  {
   "cell_type": "code",
   "execution_count": 7,
   "metadata": {},
   "outputs": [],
   "source": [
    "# Establecer la URI de tracking\n",
    "mlflow.set_tracking_uri(MLFLOW_TRACKING_URI)\n",
    "\n",
    "# Ahora puedes cargar tu modelo\n",
    "#logged_model = './mlruns/1/e1aedba8c8ea485c91f81b8b124c269f/artifacts/models/LogisticRegression'\n",
    "logged_model ='runs:/8a14c09afb674e45a5e4fa946ef80807/models/LogisticRegressionCVSmote'\n",
    "loaded_model = mlflow.pyfunc.load_model(logged_model)"
   ]
  },
  {
   "cell_type": "code",
   "execution_count": 8,
   "metadata": {},
   "outputs": [
    {
     "data": {
      "text/plain": [
       "mlflow.pyfunc.loaded_model:\n",
       "  artifact_path: models/LogisticRegressionCVSmote\n",
       "  flavor: mlflow.sklearn\n",
       "  run_id: 8a14c09afb674e45a5e4fa946ef80807"
      ]
     },
     "execution_count": 8,
     "metadata": {},
     "output_type": "execute_result"
    }
   ],
   "source": [
    "# get info from the loaded model\n",
    "loaded_model"
   ]
  },
  {
   "cell_type": "code",
   "execution_count": 9,
   "metadata": {},
   "outputs": [],
   "source": [
    "lr_model = mlflow.sklearn.load_model(logged_model)"
   ]
  },
  {
   "cell_type": "code",
   "execution_count": 10,
   "metadata": {},
   "outputs": [
    {
     "data": {
      "text/plain": [
       "array(['0', '2', '2', ..., '0', '2', '2'], dtype=object)"
      ]
     },
     "execution_count": 10,
     "metadata": {},
     "output_type": "execute_result"
    }
   ],
   "source": [
    "lr_model.predict(X_test)"
   ]
  },
  {
   "attachments": {},
   "cell_type": "markdown",
   "metadata": {},
   "source": [
    "## Model registry and state transitions"
   ]
  },
  {
   "attachments": {},
   "cell_type": "markdown",
   "metadata": {},
   "source": [
    "<p align=\"center\">\n",
    "  <img src=\"https://pbs.twimg.com/media/EoOBoWyWEAAA8In.jpg\" width=\"400\" style=\"display: block; margin: auto;\">\n",
    "</p>\n"
   ]
  },
  {
   "attachments": {},
   "cell_type": "markdown",
   "metadata": {},
   "source": [
    "* Tener en cuenta el tiempo de ejecución\n",
    "\n",
    "* Métricas obtenidas\n",
    "\n",
    "* Size del tamaño \n",
    "\n",
    "* Las pruebas que anteriormente mencionamos. \n"
   ]
  },
  {
   "cell_type": "code",
   "execution_count": 11,
   "metadata": {},
   "outputs": [],
   "source": [
    "from mlflow.tracking import MlflowClient"
   ]
  },
  {
   "cell_type": "code",
   "execution_count": 12,
   "metadata": {},
   "outputs": [],
   "source": [
    "\n",
    "client = MlflowClient(tracking_uri=MLFLOW_TRACKING_URI)\n"
   ]
  },
  {
   "cell_type": "code",
   "execution_count": 13,
   "metadata": {},
   "outputs": [],
   "source": [
    "runs = mlflow.search_runs()\n",
    "# Extrae los IDs únicos de los experimentos\n",
    "experiment_ids = runs['experiment_id'].unique()"
   ]
  },
  {
   "cell_type": "code",
   "execution_count": 14,
   "metadata": {},
   "outputs": [
    {
     "data": {
      "text/plain": [
       "array([], dtype=float64)"
      ]
     },
     "execution_count": 14,
     "metadata": {},
     "output_type": "execute_result"
    }
   ],
   "source": [
    "experiment_ids"
   ]
  },
  {
   "cell_type": "code",
   "execution_count": 16,
   "metadata": {},
   "outputs": [
    {
     "name": "stdout",
     "output_type": "stream",
     "text": [
      "<RunInfo: artifact_uri='/Users/mdurango/Proyect/Mlops-platzi/tracking/mlruns/1/13704a5ce26c4f2baecd2907bc4ed7e6/artifacts', end_time=1708291482190, experiment_id='1', lifecycle_stage='active', run_id='13704a5ce26c4f2baecd2907bc4ed7e6', run_name='DecisionTreeClassifierCV', run_uuid='13704a5ce26c4f2baecd2907bc4ed7e6', start_time=1708291477187, status='FINISHED', user_id='mdurango'>\n",
      "<RunInfo: artifact_uri='/Users/mdurango/Proyect/Mlops-platzi/tracking/mlruns/1/2c103643f9d4425688b843422a746ece/artifacts', end_time=1708291443884, experiment_id='1', lifecycle_stage='active', run_id='2c103643f9d4425688b843422a746ece', run_name='DecisionTreeClassifier', run_uuid='2c103643f9d4425688b843422a746ece', start_time=1708291439206, status='FINISHED', user_id='mdurango'>\n",
      "<RunInfo: artifact_uri='/Users/mdurango/Proyect/Mlops-platzi/tracking/mlruns/1/6bb6e4aefc6a49ae87f0532d3b8b301f/artifacts', end_time=1708291437660, experiment_id='1', lifecycle_stage='active', run_id='6bb6e4aefc6a49ae87f0532d3b8b301f', run_name='LogisticRegression', run_uuid='6bb6e4aefc6a49ae87f0532d3b8b301f', start_time=1708291433025, status='FINISHED', user_id='mdurango'>\n",
      "<RunInfo: artifact_uri='/Users/mdurango/Proyect/Mlops-platzi/tracking/mlruns/1/6d844875da0343ffa7629c0e90d28436/artifacts', end_time=1708291432528, experiment_id='1', lifecycle_stage='active', run_id='6d844875da0343ffa7629c0e90d28436', run_name='MultinomialNBCV', run_uuid='6d844875da0343ffa7629c0e90d28436', start_time=1708291428071, status='FINISHED', user_id='mdurango'>\n",
      "<RunInfo: artifact_uri='/Users/mdurango/Proyect/Mlops-platzi/tracking/mlruns/1/32472b9cde6540088a02fb2e926fb473/artifacts', end_time=1708291404203, experiment_id='1', lifecycle_stage='active', run_id='32472b9cde6540088a02fb2e926fb473', run_name='MultinomialNB', run_uuid='32472b9cde6540088a02fb2e926fb473', start_time=1708291399858, status='FINISHED', user_id='mdurango'>\n",
      "<RunInfo: artifact_uri='/Users/mdurango/Proyect/Mlops-platzi/tracking/mlruns/1/3f3a32f9b7934b2bbc307729f643b3d3/artifacts', end_time=1708290066981, experiment_id='1', lifecycle_stage='active', run_id='3f3a32f9b7934b2bbc307729f643b3d3', run_name='DecisionTreeClassifierCV', run_uuid='3f3a32f9b7934b2bbc307729f643b3d3', start_time=1708290061868, status='FINISHED', user_id='mdurango'>\n",
      "<RunInfo: artifact_uri='/Users/mdurango/Proyect/Mlops-platzi/tracking/mlruns/1/393cdf9e982d496e85f51408ebcb4b4b/artifacts', end_time=1708290020722, experiment_id='1', lifecycle_stage='active', run_id='393cdf9e982d496e85f51408ebcb4b4b', run_name='DecisionTreeClassifier', run_uuid='393cdf9e982d496e85f51408ebcb4b4b', start_time=1708290016116, status='FINISHED', user_id='mdurango'>\n",
      "<RunInfo: artifact_uri='/Users/mdurango/Proyect/Mlops-platzi/tracking/mlruns/1/e6c7fab2b43c458b8f1ecfd8e0b83720/artifacts', end_time=1708290014535, experiment_id='1', lifecycle_stage='active', run_id='e6c7fab2b43c458b8f1ecfd8e0b83720', run_name='LogisticRegressionCVSmote', run_uuid='e6c7fab2b43c458b8f1ecfd8e0b83720', start_time=1708290009877, status='FINISHED', user_id='mdurango'>\n",
      "<RunInfo: artifact_uri='/Users/mdurango/Proyect/Mlops-platzi/tracking/mlruns/1/baa23747582042b7a73eeef90e748c41/artifacts', end_time=1708289979201, experiment_id='1', lifecycle_stage='active', run_id='baa23747582042b7a73eeef90e748c41', run_name='LogisticRegression', run_uuid='baa23747582042b7a73eeef90e748c41', start_time=1708289974644, status='FINISHED', user_id='mdurango'>\n",
      "<RunInfo: artifact_uri='/Users/mdurango/Proyect/Mlops-platzi/tracking/mlruns/1/ca51a49042dd4ba5b02eb2a3f05d1acf/artifacts', end_time=1708289974142, experiment_id='1', lifecycle_stage='active', run_id='ca51a49042dd4ba5b02eb2a3f05d1acf', run_name='MultinomialNBCV', run_uuid='ca51a49042dd4ba5b02eb2a3f05d1acf', start_time=1708289969913, status='FINISHED', user_id='mdurango'>\n",
      "<RunInfo: artifact_uri='/Users/mdurango/Proyect/Mlops-platzi/tracking/mlruns/1/6f7badd0de7841c49f1a01d698c2270c/artifacts', end_time=1708289967634, experiment_id='1', lifecycle_stage='active', run_id='6f7badd0de7841c49f1a01d698c2270c', run_name='MultinomialNB', run_uuid='6f7badd0de7841c49f1a01d698c2270c', start_time=1708289963015, status='FINISHED', user_id='mdurango'>\n",
      "<RunInfo: artifact_uri='/Users/mdurango/Proyect/Mlops-platzi/tracking/mlruns/1/7189baa3685f4e738ba2f11ed53f71af/artifacts', end_time=1708289787435, experiment_id='1', lifecycle_stage='active', run_id='7189baa3685f4e738ba2f11ed53f71af', run_name='LogisticRegressionCVSmote', run_uuid='7189baa3685f4e738ba2f11ed53f71af', start_time=1708289782359, status='FINISHED', user_id='mdurango'>\n",
      "<RunInfo: artifact_uri='/Users/mdurango/Proyect/Mlops-platzi/tracking/mlruns/1/9e0938d3b9ea412696bcb6c4b20f26d0/artifacts', end_time=1708289700118, experiment_id='1', lifecycle_stage='active', run_id='9e0938d3b9ea412696bcb6c4b20f26d0', run_name='DecisionTreeClassifierCV', run_uuid='9e0938d3b9ea412696bcb6c4b20f26d0', start_time=1708289695431, status='FINISHED', user_id='mdurango'>\n",
      "<RunInfo: artifact_uri='/Users/mdurango/Proyect/Mlops-platzi/tracking/mlruns/1/f3e2e4a114d940b588b68731d0290072/artifacts', end_time=1708289661985, experiment_id='1', lifecycle_stage='active', run_id='f3e2e4a114d940b588b68731d0290072', run_name='DecisionTreeClassifier', run_uuid='f3e2e4a114d940b588b68731d0290072', start_time=1708289657228, status='FINISHED', user_id='mdurango'>\n",
      "<RunInfo: artifact_uri='/Users/mdurango/Proyect/Mlops-platzi/tracking/mlruns/1/8a14c09afb674e45a5e4fa946ef80807/artifacts', end_time=1708289655687, experiment_id='1', lifecycle_stage='active', run_id='8a14c09afb674e45a5e4fa946ef80807', run_name='LogisticRegressionCVSmote', run_uuid='8a14c09afb674e45a5e4fa946ef80807', start_time=1708289650724, status='FINISHED', user_id='mdurango'>\n",
      "<RunInfo: artifact_uri='/Users/mdurango/Proyect/Mlops-platzi/tracking/mlruns/1/da2405d3c0b442f382056d2c09dc0f1f/artifacts', end_time=1708289620559, experiment_id='1', lifecycle_stage='active', run_id='da2405d3c0b442f382056d2c09dc0f1f', run_name='LogisticRegression', run_uuid='da2405d3c0b442f382056d2c09dc0f1f', start_time=1708289615957, status='FINISHED', user_id='mdurango'>\n",
      "<RunInfo: artifact_uri='/Users/mdurango/Proyect/Mlops-platzi/tracking/mlruns/1/8f3f9b7319e14e84befbb26f82c3b252/artifacts', end_time=1708289615443, experiment_id='1', lifecycle_stage='active', run_id='8f3f9b7319e14e84befbb26f82c3b252', run_name='MultinomialNBCV', run_uuid='8f3f9b7319e14e84befbb26f82c3b252', start_time=1708289611267, status='FINISHED', user_id='mdurango'>\n",
      "<RunInfo: artifact_uri='/Users/mdurango/Proyect/Mlops-platzi/tracking/mlruns/1/4e9a2c96a6e34d44b057a8561067298e/artifacts', end_time=1708289596774, experiment_id='1', lifecycle_stage='active', run_id='4e9a2c96a6e34d44b057a8561067298e', run_name='MultinomialNB', run_uuid='4e9a2c96a6e34d44b057a8561067298e', start_time=1708289591679, status='FINISHED', user_id='mdurango'>\n"
     ]
    }
   ],
   "source": [
    "runs = client.search_runs(experiment_ids=[\"1\"])\n",
    "for run in runs:\n",
    "    print(run.info)\n"
   ]
  },
  {
   "cell_type": "code",
   "execution_count": 17,
   "metadata": {},
   "outputs": [],
   "source": [
    "runs= client.search_runs(\n",
    "    experiment_ids='1',\n",
    "    filter_string=\"\", #se puede usar un tag en especial o algún parámetro de interés ej: 'tags.model = \"lasso_regression\" '\n",
    "    run_view_type=mlflow.entities.ViewType.ACTIVE_ONLY,\n",
    "    max_results=5,\n",
    "    order_by=[\"metrics.recall_test ASC\"]\n",
    "\n",
    ")"
   ]
  },
  {
   "cell_type": "code",
   "execution_count": 18,
   "metadata": {},
   "outputs": [
    {
     "name": "stdout",
     "output_type": "stream",
     "text": [
      "run id: 6d844875da0343ffa7629c0e90d28436, recall_test: 0.8401898734177216\n",
      "run id: 32472b9cde6540088a02fb2e926fb473, recall_test: 0.8401898734177216\n",
      "run id: ca51a49042dd4ba5b02eb2a3f05d1acf, recall_test: 0.8401898734177216\n",
      "run id: 6f7badd0de7841c49f1a01d698c2270c, recall_test: 0.8401898734177216\n",
      "run id: 8f3f9b7319e14e84befbb26f82c3b252, recall_test: 0.8401898734177216\n"
     ]
    }
   ],
   "source": [
    "for run in runs:\n",
    "    print(f\"run id: {run.info.run_id}, recall_test: {run.data.metrics['recall_test']}\")"
   ]
  },
  {
   "attachments": {},
   "cell_type": "markdown",
   "metadata": {},
   "source": [
    "### Promote a model"
   ]
  },
  {
   "cell_type": "code",
   "execution_count": 19,
   "metadata": {},
   "outputs": [
    {
     "name": "stderr",
     "output_type": "stream",
     "text": [
      "Registered model 'classifier_model' already exists. Creating a new version of this model...\n",
      "Created version '2' of model 'classifier_model'.\n"
     ]
    },
    {
     "data": {
      "text/plain": [
       "<ModelVersion: aliases=[], creation_timestamp=1708293669498, current_stage='None', description=None, last_updated_timestamp=1708293669498, name='classifier_model', run_id='6d844875da0343ffa7629c0e90d28436', run_link=None, source='/Users/mdurango/Proyect/Mlops-platzi/tracking/mlruns/1/6d844875da0343ffa7629c0e90d28436/artifacts/model', status='READY', status_message=None, tags={}, user_id=None, version=2>"
      ]
     },
     "execution_count": 19,
     "metadata": {},
     "output_type": "execute_result"
    }
   ],
   "source": [
    "run_id = \"6d844875da0343ffa7629c0e90d28436\"\n",
    "model_uri = f\"runs:/{run_id}/model\"\n",
    "mlflow.register_model(model_uri, \"classifier_model\")"
   ]
  },
  {
   "cell_type": "code",
   "execution_count": 29,
   "metadata": {},
   "outputs": [
    {
     "data": {
      "text/plain": [
       "'runs:/6d844875da0343ffa7629c0e90d28436/model'"
      ]
     },
     "execution_count": 29,
     "metadata": {},
     "output_type": "execute_result"
    }
   ],
   "source": [
    "model_uri"
   ]
  },
  {
   "cell_type": "code",
   "execution_count": 20,
   "metadata": {},
   "outputs": [
    {
     "name": "stdout",
     "output_type": "stream",
     "text": [
      " version: 1 , actual stage: Production\n",
      " version: 2 , actual stage: None\n"
     ]
    }
   ],
   "source": [
    "model_name = \"classifier_model\"\n",
    "latest_versions = client.get_latest_versions(name=model_name)\n",
    "for version in latest_versions:\n",
    "    print(f\" version: {version.version} , actual stage: {version._current_stage}\")"
   ]
  },
  {
   "cell_type": "code",
   "execution_count": 21,
   "metadata": {},
   "outputs": [
    {
     "data": {
      "text/plain": [
       "<ModelVersion: aliases=[], creation_timestamp=1708293221686, current_stage='Production', description='The model version 1 was transitioned to Production on 2024-02-18', last_updated_timestamp=1708293671864, name='classifier_model', run_id='6d844875da0343ffa7629c0e90d28436', run_link=None, source='/Users/mdurango/Proyect/Mlops-platzi/tracking/mlruns/1/6d844875da0343ffa7629c0e90d28436/artifacts/model', status='READY', status_message=None, tags={}, user_id=None, version=1>"
      ]
     },
     "execution_count": 21,
     "metadata": {},
     "output_type": "execute_result"
    }
   ],
   "source": [
    "client.transition_model_version_stage(\n",
    "    name=model_name,\n",
    "    version=1,\n",
    "    stage=\"Production\"\n",
    ")"
   ]
  },
  {
   "cell_type": "code",
   "execution_count": 22,
   "metadata": {},
   "outputs": [
    {
     "data": {
      "text/plain": [
       "<ModelVersion: aliases=[], creation_timestamp=1708293221686, current_stage='Production', description='The model version 1 was transitioned to Production on 2024-02-18', last_updated_timestamp=1708293672595, name='classifier_model', run_id='6d844875da0343ffa7629c0e90d28436', run_link=None, source='/Users/mdurango/Proyect/Mlops-platzi/tracking/mlruns/1/6d844875da0343ffa7629c0e90d28436/artifacts/model', status='READY', status_message=None, tags={}, user_id=None, version=1>"
      ]
     },
     "execution_count": 22,
     "metadata": {},
     "output_type": "execute_result"
    }
   ],
   "source": [
    "client.transition_model_version_stage(\n",
    "    name=model_name,\n",
    "    version=1,\n",
    "    stage=\"Production\"\n",
    ")"
   ]
  },
  {
   "attachments": {},
   "cell_type": "markdown",
   "metadata": {},
   "source": [
    "Cuando vayas a cambiar el staging de un modelo a otro estado, podemos también añadir descripciones: "
   ]
  },
  {
   "cell_type": "code",
   "execution_count": 23,
   "metadata": {},
   "outputs": [
    {
     "data": {
      "text/plain": [
       "<ModelVersion: aliases=[], creation_timestamp=1708293221686, current_stage='Production', description='The model version 1 was transitioned to Production on 2024-02-18', last_updated_timestamp=1708293673932, name='classifier_model', run_id='6d844875da0343ffa7629c0e90d28436', run_link=None, source='/Users/mdurango/Proyect/Mlops-platzi/tracking/mlruns/1/6d844875da0343ffa7629c0e90d28436/artifacts/model', status='READY', status_message=None, tags={}, user_id=None, version=1>"
      ]
     },
     "execution_count": 23,
     "metadata": {},
     "output_type": "execute_result"
    }
   ],
   "source": [
    "client.update_model_version(\n",
    "    name=model_name, \n",
    "    version=1,\n",
    "    description=f\"The model version {1} was transitioned to Production on {datetime.today().date()}\"\n",
    ")"
   ]
  },
  {
   "attachments": {},
   "cell_type": "markdown",
   "metadata": {},
   "source": [
    "### Testing a register model: \n",
    "\n",
    "De esta forma se deben hacer las pruebas con el pipeline de producción para asegurar que el modelo se comporta como se espera, además de validar la infraestructura y las pruebas que recién habíamos mencionado. "
   ]
  },
  {
   "cell_type": "code",
   "execution_count": 32,
   "metadata": {},
   "outputs": [],
   "source": [
    "# OJO: Es importante que recuerdes los formatos permitidos por mlflow load_model, como dataframes, numpy arrays, etc.\n",
    "def testint_model_from_mlflow(model_name: str, stage:str, X_test: xgboost.core.DMatrix, Y_test: np.ndarray):\n",
    "    \"\"\"this function tests a model from mlflow\n",
    "    Args:\n",
    "        model_name (str): name of the model\n",
    "        stage (str): stage of the model\n",
    "        X_test (scipy.sparse._csr.csr_matrix): test data\n",
    "        Y_test (scipy.sparse._csr.csr_matrix): test target\n",
    "    Returns:\n",
    "        float: recall score of the model\n",
    "    \n",
    "    \"\"\"\n",
    "    model = mlflow.pyfunc.load_model(f\"models:/{model_name}/{stage}\")\n",
    "\n",
    "    y_pred = model.predict(X_test)\n",
    "    recall_pred = recall_score(Y_test, y_pred)\n",
    "    return {\"recall score\": recall_pred}"
   ]
  },
  {
   "cell_type": "code",
   "execution_count": 33,
   "metadata": {},
   "outputs": [
    {
     "name": "stdout",
     "output_type": "stream",
     "text": [
      "CPU times: user 2 µs, sys: 0 ns, total: 2 µs\n",
      "Wall time: 3.81 µs\n"
     ]
    },
    {
     "ename": "OSError",
     "evalue": "No such file or directory: '/Users/mdurango/Proyect/Mlops-platzi/tracking/mlruns/1/6d844875da0343ffa7629c0e90d28436/artifacts/model/.'",
     "output_type": "error",
     "traceback": [
      "\u001b[0;31m---------------------------------------------------------------------------\u001b[0m",
      "\u001b[0;31mOSError\u001b[0m                                   Traceback (most recent call last)",
      "Cell \u001b[0;32mIn[33], line 2\u001b[0m\n\u001b[1;32m      1\u001b[0m get_ipython()\u001b[39m.\u001b[39mrun_line_magic(\u001b[39m'\u001b[39m\u001b[39mtime\u001b[39m\u001b[39m'\u001b[39m, \u001b[39m'\u001b[39m\u001b[39m'\u001b[39m)\n\u001b[0;32m----> 2\u001b[0m testint_model_from_mlflow(model_name\u001b[39m=\u001b[39;49m \u001b[39m\"\u001b[39;49m\u001b[39mclassifier_model\u001b[39;49m\u001b[39m\"\u001b[39;49m, stage\u001b[39m=\u001b[39;49m\u001b[39m\"\u001b[39;49m\u001b[39mProduction\u001b[39;49m\u001b[39m\"\u001b[39;49m, X_test\u001b[39m=\u001b[39;49mX_test, Y_test\u001b[39m=\u001b[39;49my_test)\n",
      "Cell \u001b[0;32mIn[32], line 14\u001b[0m, in \u001b[0;36mtestint_model_from_mlflow\u001b[0;34m(model_name, stage, X_test, Y_test)\u001b[0m\n\u001b[1;32m      3\u001b[0m \u001b[39m\u001b[39m\u001b[39m\"\"\"this function tests a model from mlflow\u001b[39;00m\n\u001b[1;32m      4\u001b[0m \u001b[39mArgs:\u001b[39;00m\n\u001b[1;32m      5\u001b[0m \u001b[39m    model_name (str): name of the model\u001b[39;00m\n\u001b[0;32m   (...)\u001b[0m\n\u001b[1;32m     11\u001b[0m \u001b[39m\u001b[39;00m\n\u001b[1;32m     12\u001b[0m \u001b[39m\"\"\"\u001b[39;00m\n\u001b[1;32m     13\u001b[0m model_uri \u001b[39m=\u001b[39m \u001b[39mf\u001b[39m\u001b[39m\"\u001b[39m\u001b[39mmodels:/\u001b[39m\u001b[39m{\u001b[39;00mmodel_name\u001b[39m}\u001b[39;00m\u001b[39m/\u001b[39m\u001b[39m{\u001b[39;00mstage\u001b[39m}\u001b[39;00m\u001b[39m\"\u001b[39m\n\u001b[0;32m---> 14\u001b[0m model \u001b[39m=\u001b[39m mlflow\u001b[39m.\u001b[39;49mpyfunc\u001b[39m.\u001b[39;49mload_model(model_uri)\n\u001b[1;32m     15\u001b[0m y_pred \u001b[39m=\u001b[39m model\u001b[39m.\u001b[39mpredict(X_test)\n\u001b[1;32m     16\u001b[0m recall_pred \u001b[39m=\u001b[39m recall_score(Y_test, y_pred)\n",
      "File \u001b[0;32m~/Proyect/Mlops-platzi/.venv/lib/python3.9/site-packages/mlflow/pyfunc/__init__.py:652\u001b[0m, in \u001b[0;36mload_model\u001b[0;34m(model_uri, suppress_warnings, dst_path, model_config)\u001b[0m\n\u001b[1;32m    618\u001b[0m \u001b[39mdef\u001b[39;00m \u001b[39mload_model\u001b[39m(\n\u001b[1;32m    619\u001b[0m     model_uri: \u001b[39mstr\u001b[39m,\n\u001b[1;32m    620\u001b[0m     suppress_warnings: \u001b[39mbool\u001b[39m \u001b[39m=\u001b[39m \u001b[39mFalse\u001b[39;00m,\n\u001b[1;32m    621\u001b[0m     dst_path: Optional[\u001b[39mstr\u001b[39m] \u001b[39m=\u001b[39m \u001b[39mNone\u001b[39;00m,\n\u001b[1;32m    622\u001b[0m     model_config: Optional[Dict[\u001b[39mstr\u001b[39m, Any]] \u001b[39m=\u001b[39m \u001b[39mNone\u001b[39;00m,\n\u001b[1;32m    623\u001b[0m ) \u001b[39m-\u001b[39m\u001b[39m>\u001b[39m PyFuncModel:\n\u001b[1;32m    624\u001b[0m \u001b[39m    \u001b[39m\u001b[39m\"\"\"\u001b[39;00m\n\u001b[1;32m    625\u001b[0m \u001b[39m    Load a model stored in Python function format.\u001b[39;00m\n\u001b[1;32m    626\u001b[0m \n\u001b[0;32m   (...)\u001b[0m\n\u001b[1;32m    650\u001b[0m \u001b[39m                                             release without warning.\u001b[39;00m\n\u001b[1;32m    651\u001b[0m \u001b[39m    \"\"\"\u001b[39;00m\n\u001b[0;32m--> 652\u001b[0m     local_path \u001b[39m=\u001b[39m _download_artifact_from_uri(artifact_uri\u001b[39m=\u001b[39;49mmodel_uri, output_path\u001b[39m=\u001b[39;49mdst_path)\n\u001b[1;32m    654\u001b[0m     \u001b[39mif\u001b[39;00m \u001b[39mnot\u001b[39;00m suppress_warnings:\n\u001b[1;32m    655\u001b[0m         _warn_dependency_requirement_mismatches(local_path)\n",
      "File \u001b[0;32m~/Proyect/Mlops-platzi/.venv/lib/python3.9/site-packages/mlflow/tracking/artifact_utils.py:100\u001b[0m, in \u001b[0;36m_download_artifact_from_uri\u001b[0;34m(artifact_uri, output_path)\u001b[0m\n\u001b[1;32m     94\u001b[0m \u001b[39m\u001b[39m\u001b[39m\"\"\"\u001b[39;00m\n\u001b[1;32m     95\u001b[0m \u001b[39m:param artifact_uri: The *absolute* URI of the artifact to download.\u001b[39;00m\n\u001b[1;32m     96\u001b[0m \u001b[39m:param output_path: The local filesystem path to which to download the artifact. If unspecified,\u001b[39;00m\n\u001b[1;32m     97\u001b[0m \u001b[39m                    a local output path will be created.\u001b[39;00m\n\u001b[1;32m     98\u001b[0m \u001b[39m\"\"\"\u001b[39;00m\n\u001b[1;32m     99\u001b[0m root_uri, artifact_path \u001b[39m=\u001b[39m _get_root_uri_and_artifact_path(artifact_uri)\n\u001b[0;32m--> 100\u001b[0m \u001b[39mreturn\u001b[39;00m get_artifact_repository(artifact_uri\u001b[39m=\u001b[39;49mroot_uri)\u001b[39m.\u001b[39;49mdownload_artifacts(\n\u001b[1;32m    101\u001b[0m     artifact_path\u001b[39m=\u001b[39;49martifact_path, dst_path\u001b[39m=\u001b[39;49moutput_path\n\u001b[1;32m    102\u001b[0m )\n",
      "File \u001b[0;32m~/Proyect/Mlops-platzi/.venv/lib/python3.9/site-packages/mlflow/store/artifact/models_artifact_repo.py:172\u001b[0m, in \u001b[0;36mModelsArtifactRepository.download_artifacts\u001b[0;34m(self, artifact_path, dst_path)\u001b[0m\n\u001b[1;32m    154\u001b[0m \u001b[39mdef\u001b[39;00m \u001b[39mdownload_artifacts\u001b[39m(\u001b[39mself\u001b[39m, artifact_path, dst_path\u001b[39m=\u001b[39m\u001b[39mNone\u001b[39;00m):\n\u001b[1;32m    155\u001b[0m \u001b[39m    \u001b[39m\u001b[39m\"\"\"\u001b[39;00m\n\u001b[1;32m    156\u001b[0m \u001b[39m    Download an artifact file or directory to a local directory if applicable, and return a\u001b[39;00m\n\u001b[1;32m    157\u001b[0m \u001b[39m    local path for it.\u001b[39;00m\n\u001b[0;32m   (...)\u001b[0m\n\u001b[1;32m    169\u001b[0m \u001b[39m    :return: Absolute path of the local filesystem location containing the desired artifacts.\u001b[39;00m\n\u001b[1;32m    170\u001b[0m \u001b[39m    \"\"\"\u001b[39;00m\n\u001b[0;32m--> 172\u001b[0m     model_path \u001b[39m=\u001b[39m \u001b[39mself\u001b[39;49m\u001b[39m.\u001b[39;49mrepo\u001b[39m.\u001b[39;49mdownload_artifacts(artifact_path, dst_path)\n\u001b[1;32m    173\u001b[0m     \u001b[39mself\u001b[39m\u001b[39m.\u001b[39m_add_registered_model_meta_file(model_path)\n\u001b[1;32m    175\u001b[0m     \u001b[39mreturn\u001b[39;00m model_path\n",
      "File \u001b[0;32m~/Proyect/Mlops-platzi/.venv/lib/python3.9/site-packages/mlflow/store/artifact/local_artifact_repo.py:81\u001b[0m, in \u001b[0;36mLocalArtifactRepository.download_artifacts\u001b[0;34m(self, artifact_path, dst_path)\u001b[0m\n\u001b[1;32m     79\u001b[0m local_artifact_path \u001b[39m=\u001b[39m os\u001b[39m.\u001b[39mpath\u001b[39m.\u001b[39mjoin(\u001b[39mself\u001b[39m\u001b[39m.\u001b[39martifact_dir, os\u001b[39m.\u001b[39mpath\u001b[39m.\u001b[39mnormpath(artifact_path))\n\u001b[1;32m     80\u001b[0m \u001b[39mif\u001b[39;00m \u001b[39mnot\u001b[39;00m os\u001b[39m.\u001b[39mpath\u001b[39m.\u001b[39mexists(local_artifact_path):\n\u001b[0;32m---> 81\u001b[0m     \u001b[39mraise\u001b[39;00m \u001b[39mOSError\u001b[39;00m(\u001b[39mf\u001b[39m\u001b[39m\"\u001b[39m\u001b[39mNo such file or directory: \u001b[39m\u001b[39m'\u001b[39m\u001b[39m{\u001b[39;00mlocal_artifact_path\u001b[39m}\u001b[39;00m\u001b[39m'\u001b[39m\u001b[39m\"\u001b[39m)\n\u001b[1;32m     82\u001b[0m \u001b[39mreturn\u001b[39;00m os\u001b[39m.\u001b[39mpath\u001b[39m.\u001b[39mabspath(local_artifact_path)\n",
      "\u001b[0;31mOSError\u001b[0m: No such file or directory: '/Users/mdurango/Proyect/Mlops-platzi/tracking/mlruns/1/6d844875da0343ffa7629c0e90d28436/artifacts/model/.'"
     ]
    }
   ],
   "source": [
    "%time\n",
    "testint_model_from_mlflow(model_name= \"classifier_model\", stage=\"Production\", X_test=X_test, Y_test=y_test)\n"
   ]
  },
  {
   "attachments": {},
   "cell_type": "markdown",
   "metadata": {},
   "source": [
    "#### Ventajas de MLflow:\n",
    "\n",
    "* Gestión de Ciclo de Vida: Facilita el seguimiento de experimentos, versionado de modelos y reproducción de resultados.\n",
    "* Interoperabilidad: Es compatible con múltiples frameworks de aprendizaje automático y se integra fácilmente en flujos de trabajo existentes.\n",
    "* Abierto y Modular: Ofrece una arquitectura modular que permite la flexibilidad y personalización.\n",
    "* Trazabilidad y Reproducibilidad: Registra métricas, parámetros y artefactos para reproducir modelos y resultados.\n",
    "* Comunidad Activa: Amplia comunidad de usuarios y contribuciones continuas.\n",
    "\n",
    "\n",
    "#### Desventajas de MLflow:\n",
    "* Complejidad para Grandes Volúmenes de Datos: Puede enfrentar dificultades al manejar grandes volúmenes de datos o flujos de trabajo muy complejos.\n",
    "* Curva de Aprendizaje: Requiere tiempo para familiarizarse con todas sus funcionalidades y componentes.\n",
    "Limitaciones en Algunas Funcionalidades: Algunas funcionalidades pueden no ser tan avanzadas o flexibles como en otras herramientas especializadas.\n",
    "\n",
    "\n",
    "### Alternativas a MLflow:\n",
    "* TensorBoard: Enfoque específico para TensorFlow, útil para visualizar gráficamente métricas, grafos de modelos y más.\n",
    "* DVC (Data Version Control): Se enfoca en versionado de datos y modelos, y gestión de experimentos.\n",
    "* Comet.ml: Ofrece seguimiento de experimentos, colaboración y visualización de manera similar a MLflow.\n",
    "* Weights & Biases: Ofrece seguimiento de experimentos, colaboración y visualización de manera similar a MLflow.\n"
   ]
  },
  {
   "attachments": {},
   "cell_type": "markdown",
   "metadata": {},
   "source": [
    "#### Conclusiones\n",
    "\n",
    "* Podemos trackear metadata\n",
    "\n",
    "* Registrar modelos\n",
    "\n",
    "* Obtener los requirimientos del ambiente de desarrollo donde fue entrenado los modelos\n",
    "\n",
    "* Podemos hacer un seguimiento de los modelos y compararlos de forma fácil y amigable con la interfaz de MLflow y en código\n",
    "\n",
    "* Hacer transiciones de estados de los modelos\n",
    "\n",
    "* Añadir anotaciones o descripciones \n",
    "\n",
    "So, ya sabes incluír el registro de modelos en nuestro pipeline de ML, ahora vamos a aprender de workflows y tasks. ¡Te espero en la próxima clase! :) "
   ]
  }
 ],
 "metadata": {
  "kernelspec": {
   "display_name": "mlops-curso-py3.9",
   "language": "python",
   "name": "mlops-curso-py3.9"
  },
  "language_info": {
   "codemirror_mode": {
    "name": "ipython",
    "version": 3
   },
   "file_extension": ".py",
   "mimetype": "text/x-python",
   "name": "python",
   "nbconvert_exporter": "python",
   "pygments_lexer": "ipython3",
   "version": "3.9.17"
  },
  "orig_nbformat": 4
 },
 "nbformat": 4,
 "nbformat_minor": 2
}
